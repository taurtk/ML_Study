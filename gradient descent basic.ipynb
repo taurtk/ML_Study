{
 "cells": [
  {
   "cell_type": "code",
   "execution_count": 17,
   "metadata": {},
   "outputs": [
    {
     "name": "stdout",
     "output_type": "stream",
     "text": [
      "10\n"
     ]
    }
   ],
   "source": [
    "a =  int(input())\n",
    "\n"
   ]
  },
  {
   "cell_type": "code",
   "execution_count": 18,
   "metadata": {},
   "outputs": [
    {
     "name": "stdout",
     "output_type": "stream",
     "text": [
      "Guess a number\n"
     ]
    }
   ],
   "source": [
    "print(\"Guess a number\")"
   ]
  },
  {
   "cell_type": "code",
   "execution_count": 19,
   "metadata": {},
   "outputs": [
    {
     "name": "stdout",
     "output_type": "stream",
     "text": [
      "50\n"
     ]
    }
   ],
   "source": [
    "x = int(input())"
   ]
  },
  {
   "cell_type": "code",
   "execution_count": 22,
   "metadata": {},
   "outputs": [],
   "source": [
    "small_negative=-1\n",
    "large_negative=-10\n",
    "small_positive=1\n",
    "large_positive=10\n",
    "guessed=a"
   ]
  },
  {
   "cell_type": "code",
   "execution_count": null,
   "metadata": {},
   "outputs": [
    {
     "name": "stdout",
     "output_type": "stream",
     "text": [
      "enter a number you guessed\n",
      "5\n",
      "negative_error\n",
      "do you want to play again, press y/n\n",
      "y\n",
      "9\n",
      "small_postive_error\n",
      "do you want to play again, press y/n\n"
     ]
    }
   ],
   "source": [
    "answer = \"y\"\n",
    "print(\"enter a number you guessed\")\n",
    "while(answer == \"y\"):\n",
    "    \n",
    "    x = int(input())\n",
    "    output = x-a\n",
    "    if(output == 0):\n",
    "        print(\"you guessed right\")\n",
    "    elif(output>=small_negative):\n",
    "        print(\"small_negative_error\")\n",
    "    elif(output=<small_negative and output>=large_negative):\n",
    "        print(\"negative_error\")\n",
    "    elif(output=<large_negative):\n",
    "        print(\"large_negative_error\")\n",
    "    elif(output=<small_positive):\n",
    "        print(\"small_postive_error\")\n",
    "    elif(output>=small_postive and output=<large_positive):\n",
    "        print(\"postive_error\")\n",
    "    elif(output>=large_positive):\n",
    "        print(\"large_postive_error\")\n",
    "    \n",
    "    \n",
    "        \n",
    "    print(\"do you want to play again, press y/n\")\n",
    "    answer=input()"
   ]
  },
  {
   "cell_type": "code",
   "execution_count": null,
   "metadata": {},
   "outputs": [],
   "source": []
  }
 ],
 "metadata": {
  "kernelspec": {
   "display_name": "Python 3",
   "language": "python",
   "name": "python3"
  },
  "language_info": {
   "codemirror_mode": {
    "name": "ipython",
    "version": 3
   },
   "file_extension": ".py",
   "mimetype": "text/x-python",
   "name": "python",
   "nbconvert_exporter": "python",
   "pygments_lexer": "ipython3",
   "version": "3.8.3"
  }
 },
 "nbformat": 4,
 "nbformat_minor": 4
}
